{
 "cells": [
  {
   "cell_type": "code",
   "execution_count": 0,
   "metadata": {
    "application/vnd.databricks.v1+cell": {
     "cellMetadata": {
      "byteLimit": 2048000,
      "rowLimit": 10000
     },
     "inputWidgets": {},
     "nuid": "3577a6da-ba0c-493a-9254-2b426afe618e",
     "showTitle": false,
     "tableResultSettingsMap": {},
     "title": ""
    }
   },
   "outputs": [],
   "source": [
    "# Manual Student Dataset with DOB column\n",
    "data = [\n",
    " (1, \"Arjun\", 20, \"CSE\", \"Bangalore\", 7.8, 2022, \"Football\", \"Yes\", \"Placed\", \"2003-05-14\"),\n",
    " (2, \"Meera\", 21, \"ECE\", \"Chennai\", 8.2, 2022, \"Music\", \"No\", \"Higher Studies\", \"2002-07-21\"),\n",
    " (3, \"Ravi\", 22, \"ME\", \"Mumbai\", 6.9, 2021, \"Cricket\", \"Yes\", \"Job Search\", \"2001-03-11\"),\n",
    " (4, \"Priya\", 20, \"CSE\", \"Delhi\", 9.1, 2023, \"Dance\", \"Yes\", \"Placed\", \"2003-11-05\"),\n",
    " (5, \"Karan\", 23, \"IT\", \"Hyderabad\", 7.5, 2021, \"Basketball\", \"No\", \"Placed\", \"2000-09-19\"),\n",
    " (6, \"Sneha\", 21, \"EEE\", \"Pune\", 8.4, 2022, \"Reading\", \"Yes\", \"Higher Studies\", \"2002-02-27\"),\n",
    " (7, \"Vikram\", 22, \"CSE\", \"Bangalore\", 6.7, 2021, \"Gaming\", \"No\", \"Job Search\", \"2001-12-13\"),\n",
    " (8, \"Divya\", 20, \"ECE\", \"Chennai\", 9.0, 2023, \"Singing\", \"Yes\", \"Placed\", \"2003-04-09\"),\n",
    " (9, \"Rahul\", 21, \"ME\", \"Mumbai\", 7.2, 2022, \"Cricket\", \"No\", \"Placed\", \"2002-06-15\"),\n",
    " (10, \"Anjali\", 22, \"IT\", \"Delhi\", 8.6, 2021, \"Dance\", \"Yes\", \"Higher Studies\", \"2001-08-03\"),\n",
    " (11, \"Suresh\", 23, \"EEE\", \"Hyderabad\", 6.8, 2021, \"Football\", \"No\", \"Job Search\", \"2000-01-22\"),\n",
    " (12, \"Lakshmi\", 20, \"CSE\", \"Pune\", 8.9, 2023, \"Cooking\", \"Yes\", \"Placed\", \"2003-09-30\"),\n",
    " (13, \"Manoj\", 21, \"ECE\", \"Bangalore\", 7.3, 2022, \"Photography\", \"No\", \"Placed\", \"2002-05-18\"),\n",
    " (14, \"Aishwarya\", 22, \"ME\", \"Chennai\", 8.1, 2021, \"Music\", \"Yes\", \"Higher Studies\", \"2001-10-25\"),\n",
    " (15, \"Rohit\", 20, \"IT\", \"Mumbai\", 6.5, 2023, \"Cricket\", \"Yes\", \"Job Search\", \"2003-02-02\"),\n",
    " (16, \"Neha\", 21, \"EEE\", \"Delhi\", 9.2, 2022, \"Dance\", \"No\", \"Placed\", \"2002-12-11\"),\n",
    " (17, \"Varun\", 22, \"CSE\", \"Hyderabad\", 7.9, 2021, \"Basketball\", \"Yes\", \"Placed\", \"2001-06-06\"),\n",
    " (18, \"Kavya\", 23, \"ECE\", \"Pune\", 8.7, 2021, \"Music\", \"No\", \"Higher Studies\", \"2000-08-28\"),\n",
    " (19, \"Ajay\", 20, \"ME\", \"Bangalore\", 7.1, 2023, \"Football\", \"Yes\", \"Job Search\", \"2003-03-19\"),\n",
    " (20, \"Pooja\", 21, \"IT\", \"Chennai\", 8.5, 2022, \"Dance\", \"Yes\", \"Placed\", \"2002-07-07\"),\n",
    " (21, \"Deepak\", 22, \"EEE\", \"Mumbai\", 6.6, 2021, \"Reading\", \"No\", \"Placed\", \"2001-04-01\"),\n",
    " (22, \"Shreya\", 20, \"CSE\", \"Delhi\", 9.3, 2023, \"Singing\", \"Yes\", \"Higher Studies\", \"2003-11-29\"),\n",
    " (23, \"Harish\", 21, \"ECE\", \"Hyderabad\", 7.4, 2022, \"Gaming\", \"Yes\", \"Job Search\", \"2002-01-15\"),\n",
    " (24, \"Ritika\", 22, \"ME\", \"Pune\", 8.8, 2021, \"Dance\", \"No\", \"Placed\", \"2001-05-12\"),\n",
    " (25, \"Amit\", 23, \"IT\", \"Bangalore\", 6.9, 2021, \"Football\", \"Yes\", \"Higher Studies\", \"2000-09-02\"),\n",
    " (26, \"Nisha\", 20, \"EEE\", \"Chennai\", 9.0, 2023, \"Cooking\", \"No\", \"Placed\", \"2003-12-21\"),\n",
    " (27, \"Gaurav\", 21, \"CSE\", \"Mumbai\", 7.6, 2022, \"Photography\", \"Yes\", \"Job Search\", \"2002-03-30\"),\n",
    " (28, \"Snehal\", 22, \"ECE\", \"Delhi\", 8.2, 2021, \"Music\", \"Yes\", \"Placed\", \"2001-07-17\"),\n",
    " (29, \"Vivek\", 20, \"ME\", \"Hyderabad\", 6.7, 2023, \"Cricket\", \"No\", \"Placed\", \"2003-05-23\"),\n",
    " (30, \"Ishita\", 21, \"IT\", \"Pune\", 8.9, 2022, \"Dance\", \"Yes\", \"Higher Studies\", \"2002-10-08\"),\n",
    " (31, \"Tarun\", 22, \"EEE\", \"Bangalore\", 7.0, 2021, \"Gaming\", \"Yes\", \"Placed\", \"2001-02-19\"),\n",
    " (32, \"Anusha\", 23, \"CSE\", \"Chennai\", 9.1, 2021, \"Music\", \"No\", \"Placed\", \"2000-11-14\"),\n",
    " (33, \"Siddharth\", 20, \"ECE\", \"Mumbai\", 7.7, 2023, \"Football\", \"Yes\", \"Higher Studies\", \"2003-06-27\"),\n",
    " (34, \"Pallavi\", 21, \"ME\", \"Delhi\", 8.3, 2022, \"Dance\", \"No\", \"Job Search\", \"2002-08-05\"),\n",
    " (35, \"Naveen\", 22, \"IT\", \"Hyderabad\", 6.8, 2021, \"Cricket\", \"Yes\", \"Placed\", \"2001-01-09\"),\n",
    " (36, \"Rani\", 20, \"EEE\", \"Pune\", 9.2, 2023, \"Cooking\", \"Yes\", \"Placed\", \"2003-04-26\"),\n",
    " (37, \"Karthik\", 21, \"CSE\", \"Bangalore\", 7.5, 2022, \"Photography\", \"No\", \"Higher Studies\", \"2002-09-13\"),\n",
    " (38, \"Geeta\", 22, \"ECE\", \"Chennai\", 8.6, 2021, \"Dance\", \"Yes\", \"Placed\", \"2001-12-02\"),\n",
    " (39, \"Ashok\", 23, \"ME\", \"Mumbai\", 6.9, 2021, \"Football\", \"No\", \"Job Search\", \"2000-02-24\"),\n",
    " (40, \"Sandhya\", 20, \"IT\", \"Delhi\", 9.0, 2023, \"Singing\", \"Yes\", \"Placed\", \"2003-07-31\"),\n",
    "]\n",
    "\n",
    "# Define schema with DOB\n",
    "columns = [\"ID\", \"Name\", \"Age\", \"Department\", \"City\", \"CGPA\", \"PassOutYear\", \"Hobby\", \"Hosteller\", \"Status\", \"DOB\"]\n",
    "\n",
    "# Create DataFrame\n",
    "df = spark.createDataFrame(data, columns)\n",
    "\n",
    "# Show DataFrame in Databricks\n",
    "display(df)\n"
   ]
  },
  {
   "cell_type": "code",
   "execution_count": 0,
   "metadata": {
    "application/vnd.databricks.v1+cell": {
     "cellMetadata": {
      "byteLimit": 2048000,
      "rowLimit": 10000
     },
     "inputWidgets": {},
     "nuid": "1d809d33-c8ad-41c1-a15d-8b6fc8c8ea22",
     "showTitle": false,
     "tableResultSettingsMap": {},
     "title": ""
    }
   },
   "outputs": [],
   "source": [
    "df.printSchema()"
   ]
  },
  {
   "cell_type": "code",
   "execution_count": 0,
   "metadata": {
    "application/vnd.databricks.v1+cell": {
     "cellMetadata": {
      "byteLimit": 2048000,
      "rowLimit": 10000
     },
     "inputWidgets": {},
     "nuid": "e46a1291-c3e0-434f-8ea4-5dad7d4b091b",
     "showTitle": false,
     "tableResultSettingsMap": {},
     "title": ""
    }
   },
   "outputs": [],
   "source": [
    "from pyspark.sql.functions import to_date, col, date_format\n",
    "\n",
    "df2 = df.withColumn(\"DOB\", to_date(col(\"DOB\"), \"yyyy-MM-dd\"))\n",
    "df3 = df2.withColumn(\"DOB\", date_format(col(\"DOB\"), \"dd/MM/yyyy\"))\n",
    "df3.printSchema()\n",
    "df2.printSchema()"
   ]
  },
  {
   "cell_type": "code",
   "execution_count": 0,
   "metadata": {
    "application/vnd.databricks.v1+cell": {
     "cellMetadata": {
      "byteLimit": 2048000,
      "rowLimit": 10000
     },
     "inputWidgets": {},
     "nuid": "aae2287d-040b-4c27-aef3-234848271e3e",
     "showTitle": false,
     "tableResultSettingsMap": {},
     "title": ""
    }
   },
   "outputs": [],
   "source": [
    "display(df3)"
   ]
  },
  {
   "cell_type": "code",
   "execution_count": 0,
   "metadata": {
    "application/vnd.databricks.v1+cell": {
     "cellMetadata": {
      "byteLimit": 2048000,
      "rowLimit": 10000
     },
     "inputWidgets": {},
     "nuid": "6440e3c3-c45d-4772-9945-196a88386f06",
     "showTitle": false,
     "tableResultSettingsMap": {
      "0": {
       "dataGridStateBlob": "{\"version\":1,\"tableState\":{\"columnPinning\":{\"left\":[\"#row_number#\"],\"right\":[]},\"columnSizing\":{},\"columnVisibility\":{}},\"settings\":{\"columns\":{}},\"syncTimestamp\":1756972257808}",
       "filterBlob": null,
       "queryPlanFiltersBlob": null,
       "tableResultIndex": 0
      }
     },
     "title": ""
    }
   },
   "outputs": [],
   "source": [
    "df3 = df2.withColumn(\"DOB_Year\", date_format(col(\"DOB\"), \"y\"))\n",
    "display(df3)\n",
    "df4 = df3.withColumn(\"DOB_Day\", date_format(col(\"DOB\"), \"d\"))\n",
    "display(df3)\n",
    "df5 = df4.withColumn(\"DOB_Zone\", date_format(col(\"DOB\"), \"z\"))\n",
    "display(df3)\n",
    "df6 = df5.withColumn(\"DOB_Zone_Offset_O\", date_format(col(\"DOB\"), \"O\"))\n",
    "display(df3)\n",
    "df7 = df6.withColumn(\"DOB_Zone_Offset_Z\", date_format(col(\"DOB\"), \"Z\"))\n",
    "display(df3)"
   ]
  },
  {
   "cell_type": "code",
   "execution_count": 0,
   "metadata": {
    "application/vnd.databricks.v1+cell": {
     "cellMetadata": {
      "byteLimit": 2048000,
      "rowLimit": 10000
     },
     "inputWidgets": {},
     "nuid": "f0c0ab86-61ca-4731-b169-650d3860c774",
     "showTitle": false,
     "tableResultSettingsMap": {},
     "title": ""
    }
   },
   "outputs": [],
   "source": []
  },
  {
   "cell_type": "code",
   "execution_count": 0,
   "metadata": {
    "application/vnd.databricks.v1+cell": {
     "cellMetadata": {
      "byteLimit": 2048000,
      "rowLimit": 10000
     },
     "inputWidgets": {},
     "nuid": "5f4fe51e-0bcc-43f3-8cae-17d72e2f7388",
     "showTitle": false,
     "tableResultSettingsMap": {},
     "title": ""
    }
   },
   "outputs": [],
   "source": [
    "from pyspark.sql.functions import current_date,current_timestamp\n",
    "df8 = df7.withColumn(\"Current_Date\",current_date())\n",
    "display(df4)"
   ]
  },
  {
   "cell_type": "code",
   "execution_count": 0,
   "metadata": {
    "application/vnd.databricks.v1+cell": {
     "cellMetadata": {
      "byteLimit": 2048000,
      "rowLimit": 10000
     },
     "inputWidgets": {},
     "nuid": "490d6c0d-5031-4518-9a63-f4407833affb",
     "showTitle": false,
     "tableResultSettingsMap": {},
     "title": ""
    }
   },
   "outputs": [],
   "source": [
    "df9 = df8.withColumn(\"Current_Date\",current_timestamp())\n",
    "df9.display(truncate=True)"
   ]
  },
  {
   "cell_type": "code",
   "execution_count": 0,
   "metadata": {
    "application/vnd.databricks.v1+cell": {
     "cellMetadata": {
      "byteLimit": 2048000,
      "rowLimit": 10000
     },
     "inputWidgets": {},
     "nuid": "7071a547-c76c-40d9-8d1e-ef36d3c1ab2d",
     "showTitle": false,
     "tableResultSettingsMap": {},
     "title": ""
    }
   },
   "outputs": [],
   "source": [
    "from pyspark.sql.functions import from_utc_timestamp\n",
    "df10 = df9.withColumn(\"Bangalore_time\",from_utc_timestamp(col(\"Current_Date\"),\"Asia/Kolkata\"))\n",
    "df10.display(truncate=True)"
   ]
  },
  {
   "cell_type": "code",
   "execution_count": 0,
   "metadata": {
    "application/vnd.databricks.v1+cell": {
     "cellMetadata": {
      "byteLimit": 2048000,
      "rowLimit": 10000
     },
     "inputWidgets": {},
     "nuid": "37ed68de-df9a-408d-974f-7d60bc0f0a7b",
     "showTitle": false,
     "tableResultSettingsMap": {},
     "title": ""
    }
   },
   "outputs": [],
   "source": [
    "df11 = df10.withColumn(\"Bangalore_time\",date_format(col(\"Bangalore_time\"),\"dd/MM/yyyy HH:mm:ss\"))\n",
    "df11.display(truncate=True)"
   ]
  },
  {
   "cell_type": "code",
   "execution_count": 0,
   "metadata": {
    "application/vnd.databricks.v1+cell": {
     "cellMetadata": {
      "byteLimit": 2048000,
      "rowLimit": 10000
     },
     "inputWidgets": {},
     "nuid": "96c5c003-f49b-40f2-aef0-1e5240d9ed2f",
     "showTitle": false,
     "tableResultSettingsMap": {},
     "title": ""
    }
   },
   "outputs": [],
   "source": [
    "from pyspark.sql.functions import date_format, col\n",
    "\n",
    "df12 = df11.withColumn(\n",
    "    \"Bangalore_time\", \n",
    "    date_format(col(\"Bangalore_time\"), \"hh:mm:ss a\")\n",
    ")\n",
    "df12.display()"
   ]
  },
  {
   "cell_type": "code",
   "execution_count": 0,
   "metadata": {
    "application/vnd.databricks.v1+cell": {
     "cellMetadata": {
      "byteLimit": 2048000,
      "rowLimit": 10000
     },
     "inputWidgets": {},
     "nuid": "f2e7839d-8c81-4c3d-bf22-9d900300dc53",
     "showTitle": false,
     "tableResultSettingsMap": {},
     "title": ""
    }
   },
   "outputs": [],
   "source": []
  }
 ],
 "metadata": {
  "application/vnd.databricks.v1+notebook": {
   "computePreferences": {
    "hardware": {
     "accelerator": null,
     "gpuPoolId": null,
     "memory": null
    }
   },
   "dashboards": [],
   "environmentMetadata": {
    "base_environment": "",
    "environment_version": "3"
   },
   "inputWidgetPreferences": null,
   "language": "python",
   "notebookMetadata": {
    "pythonIndentUnit": 4
   },
   "notebookName": "Practicing on Date and Time Functions",
   "widgets": {}
  },
  "language_info": {
   "name": "python"
  }
 },
 "nbformat": 4,
 "nbformat_minor": 0
}
