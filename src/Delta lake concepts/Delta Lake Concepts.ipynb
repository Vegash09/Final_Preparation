{
 "cells": [
  {
   "cell_type": "code",
   "execution_count": 0,
   "metadata": {
    "application/vnd.databricks.v1+cell": {
     "cellMetadata": {
      "byteLimit": 2048000,
      "implicitDf": true,
      "rowLimit": 10000
     },
     "inputWidgets": {},
     "nuid": "f6b29cbe-320d-42e5-9e6e-30629bcb6089",
     "showTitle": false,
     "tableResultSettingsMap": {},
     "title": ""
    }
   },
   "outputs": [],
   "source": [
    "%sql\n",
    "CREATE TABLE dbtmyorg.practices.table1 (\n",
    "    ID INT,\n",
    "    Name VARCHAR(50),\n",
    "    Age INT\n",
    ");\n",
    "\n",
    "INSERT INTO dbtmyorg.practices.table1 (ID, Name, Age) VALUES\n",
    "(1, 'Arun', 20),\n",
    "(2, 'Bala', 22),\n",
    "(3, 'Chitra', 19);\n"
   ]
  },
  {
   "cell_type": "code",
   "execution_count": 0,
   "metadata": {
    "application/vnd.databricks.v1+cell": {
     "cellMetadata": {
      "byteLimit": 2048000,
      "implicitDf": true,
      "rowLimit": 10000
     },
     "inputWidgets": {},
     "nuid": "eab2bce7-da8c-43ee-aec2-99356e74f700",
     "showTitle": false,
     "tableResultSettingsMap": {},
     "title": ""
    }
   },
   "outputs": [],
   "source": [
    "%sql\n",
    "UPDATE dbtmyorg.practices.table1\n",
    "SET Age = 21\n",
    "WHERE ID = 1;\n"
   ]
  },
  {
   "cell_type": "code",
   "execution_count": 0,
   "metadata": {
    "application/vnd.databricks.v1+cell": {
     "cellMetadata": {
      "byteLimit": 2048000,
      "implicitDf": true,
      "rowLimit": 10000
     },
     "inputWidgets": {},
     "nuid": "c7099f41-aa73-41cb-88a5-bfc1cf8983e4",
     "showTitle": false,
     "tableResultSettingsMap": {},
     "title": ""
    }
   },
   "outputs": [],
   "source": [
    "%sql\n",
    "CREATE TABLE dbtmyorg.practices.table2 (\n",
    "    ID INT,\n",
    "    Course STRING,\n",
    "    Duration INT\n",
    ") TBLPROPERTIES ('delta.enableDeletionVectors' = 'false');\n",
    "\n",
    "INSERT INTO dbtmyorg.practices.table2 (ID, Course, Duration) VALUES\n",
    "(1, 'Data Science', 6),\n",
    "(2, 'Machine Learning', 12),\n",
    "(3, 'Cloud Computing', 9);\n"
   ]
  },
  {
   "cell_type": "code",
   "execution_count": 0,
   "metadata": {
    "application/vnd.databricks.v1+cell": {
     "cellMetadata": {
      "byteLimit": 2048000,
      "implicitDf": true,
      "rowLimit": 10000
     },
     "inputWidgets": {},
     "nuid": "98ad97e2-8725-4a0c-b1f3-5b5aae13d2fa",
     "showTitle": false,
     "tableResultSettingsMap": {},
     "title": ""
    }
   },
   "outputs": [],
   "source": [
    "%sql\n",
    "UPDATE dbtmyorg.practices.table2\n",
    "SET Duration = 10\n",
    "WHERE ID = 3;\n"
   ]
  },
  {
   "cell_type": "code",
   "execution_count": 0,
   "metadata": {
    "application/vnd.databricks.v1+cell": {
     "cellMetadata": {
      "byteLimit": 2048000,
      "implicitDf": true,
      "rowLimit": 10000
     },
     "inputWidgets": {},
     "nuid": "d6e33f05-6c7c-4dc5-bb90-4b9a30659dce",
     "showTitle": false,
     "tableResultSettingsMap": {},
     "title": ""
    }
   },
   "outputs": [],
   "source": [
    "%sql\n",
    "CREATE TABLE dbtmyorg.practices.table3 (\n",
    "    ID INT,\n",
    "    Department STRING,\n",
    "    Location STRING\n",
    ");\n",
    "\n",
    "INSERT INTO dbtmyorg.practices.table3 (ID, Department, Location) VALUES\n",
    "(1, 'HR', 'Chennai'),\n",
    "(2, 'Engineering', 'Bangalore'),\n",
    "(3, 'Marketing', 'Hyderabad');\n"
   ]
  },
  {
   "cell_type": "code",
   "execution_count": 0,
   "metadata": {
    "application/vnd.databricks.v1+cell": {
     "cellMetadata": {
      "byteLimit": 2048000,
      "implicitDf": true,
      "rowLimit": 10000
     },
     "inputWidgets": {},
     "nuid": "062b97dd-8077-4031-b3bd-5e06cfaff898",
     "showTitle": false,
     "tableResultSettingsMap": {},
     "title": ""
    }
   },
   "outputs": [],
   "source": [
    "%sql\n",
    "DELETE FROM dbtmyorg.practices.table3\n",
    "WHERE ID = 2;\n"
   ]
  },
  {
   "cell_type": "code",
   "execution_count": 0,
   "metadata": {
    "application/vnd.databricks.v1+cell": {
     "cellMetadata": {
      "byteLimit": 2048000,
      "implicitDf": true,
      "rowLimit": 10000
     },
     "inputWidgets": {},
     "nuid": "952a02e9-7f85-4801-99eb-00ad5abad7ef",
     "showTitle": false,
     "tableResultSettingsMap": {},
     "title": ""
    }
   },
   "outputs": [],
   "source": [
    "%sql\n",
    "CREATE TABLE dbtmyorg.practices.table4 (\n",
    "    ID INT,\n",
    "    Project STRING,\n",
    "    Budget INT\n",
    ");\n",
    "\n",
    "INSERT INTO dbtmyorg.practices.table4 (ID, Project, Budget) VALUES\n",
    "(1, 'AI Platform', 50000),\n",
    "(2, 'Web App', 30000),\n",
    "(3, 'Mobile App', 40000);\n"
   ]
  },
  {
   "cell_type": "code",
   "execution_count": 0,
   "metadata": {
    "application/vnd.databricks.v1+cell": {
     "cellMetadata": {
      "byteLimit": 2048000,
      "implicitDf": true,
      "rowLimit": 10000
     },
     "inputWidgets": {},
     "nuid": "7fdc2b5e-10c8-4f89-bef0-75a3f5f3227e",
     "showTitle": false,
     "tableResultSettingsMap": {},
     "title": ""
    }
   },
   "outputs": [],
   "source": [
    "%sql\n",
    "UPDATE dbtmyorg.practices.table4\n",
    "SET Budget = 45000\n",
    "WHERE ID = 3;\n"
   ]
  },
  {
   "cell_type": "code",
   "execution_count": 0,
   "metadata": {
    "application/vnd.databricks.v1+cell": {
     "cellMetadata": {
      "byteLimit": 2048000,
      "implicitDf": true,
      "rowLimit": 10000
     },
     "inputWidgets": {},
     "nuid": "53ece00a-42a6-4984-b7e8-99c56ffacee3",
     "showTitle": false,
     "tableResultSettingsMap": {},
     "title": ""
    }
   },
   "outputs": [],
   "source": [
    "%sql\n",
    "ALTER TABLE dbtmyorg.practices.table4 ADD COLUMN Location STRING;\n",
    "\n",
    "UPDATE dbtmyorg.practices.table4 SET Budget = 55000 WHERE ID = 1;\n",
    "UPDATE dbtmyorg.practices.table4 SET Budget = 35000 WHERE ID = 2;\n",
    "UPDATE dbtmyorg.practices.table4 SET Budget = 45000 WHERE ID = 3;\n",
    "UPDATE dbtmyorg.practices.table4 SET Project = 'AI Research' WHERE ID = 1;\n",
    "UPDATE dbtmyorg.practices.table4 SET Project = 'Web Development' WHERE ID = 2;\n",
    "UPDATE dbtmyorg.practices.table4 SET Project = 'Mobile Enhancement' WHERE ID = 3;\n",
    "UPDATE dbtmyorg.practices.table4 SET Budget = Budget + 5000 WHERE ID = 1;\n",
    "UPDATE dbtmyorg.practices.table4 SET Budget = Budget + 2000 WHERE ID = 2;\n",
    "UPDATE dbtmyorg.practices.table4 SET Budget = Budget + 3000 WHERE ID = 3;\n",
    "UPDATE dbtmyorg.practices.table4 SET Location = 'Remote' WHERE ID = 1;"
   ]
  },
  {
   "cell_type": "code",
   "execution_count": 0,
   "metadata": {
    "application/vnd.databricks.v1+cell": {
     "cellMetadata": {
      "byteLimit": 2048000,
      "implicitDf": true,
      "rowLimit": 10000
     },
     "inputWidgets": {},
     "nuid": "dd396201-eca3-49e3-83ab-123f872de28b",
     "showTitle": false,
     "tableResultSettingsMap": {},
     "title": ""
    }
   },
   "outputs": [],
   "source": [
    "%sql optimize dbtmyorg.practices.table4"
   ]
  },
  {
   "cell_type": "code",
   "execution_count": 0,
   "metadata": {
    "application/vnd.databricks.v1+cell": {
     "cellMetadata": {
      "byteLimit": 2048000,
      "implicitDf": true,
      "rowLimit": 10000
     },
     "inputWidgets": {},
     "nuid": "51b7a053-2fe0-428e-bb78-89c1188a26b9",
     "showTitle": false,
     "tableResultSettingsMap": {},
     "title": ""
    }
   },
   "outputs": [],
   "source": [
    "%sql\n",
    "DESCRIBE HISTORY dbtmyorg.practices.table4"
   ]
  },
  {
   "cell_type": "code",
   "execution_count": 0,
   "metadata": {
    "application/vnd.databricks.v1+cell": {
     "cellMetadata": {
      "byteLimit": 2048000,
      "implicitDf": true,
      "rowLimit": 10000
     },
     "inputWidgets": {},
     "nuid": "d16422c3-af1c-4066-bf79-f8ce2de75b7d",
     "showTitle": false,
     "tableResultSettingsMap": {},
     "title": ""
    }
   },
   "outputs": [],
   "source": [
    "%sql\n",
    "VACUUM dbtmyorg.practices.table4 RETAIN 0 HOURS;"
   ]
  },
  {
   "cell_type": "code",
   "execution_count": 0,
   "metadata": {
    "application/vnd.databricks.v1+cell": {
     "cellMetadata": {
      "byteLimit": 2048000,
      "rowLimit": 10000
     },
     "inputWidgets": {},
     "nuid": "027a94d7-fe8a-46f5-99ab-2b4a2231dcb7",
     "showTitle": false,
     "tableResultSettingsMap": {},
     "title": ""
    }
   },
   "outputs": [],
   "source": [
    "from delta.tables import DeltaTable\n",
    "\n",
    "for i in range(0, 20):\n",
    "    df = spark.read.format(\"delta\") \\\n",
    "        .option(\"versionAsOf\", i) \\\n",
    "        .table(\"dbtmyorg.practices.table4\")\n",
    "    df.show()"
   ]
  },
  {
   "cell_type": "code",
   "execution_count": 0,
   "metadata": {
    "application/vnd.databricks.v1+cell": {
     "cellMetadata": {
      "byteLimit": 2048000,
      "implicitDf": true,
      "rowLimit": 10000
     },
     "inputWidgets": {},
     "nuid": "98f39ebd-133f-434c-8970-c23b549ec62a",
     "showTitle": false,
     "tableResultSettingsMap": {},
     "title": ""
    }
   },
   "outputs": [],
   "source": [
    "%sql\n",
    "VACUUM dbtmyorg.practices.table4 RETAIN 0 HOURS"
   ]
  },
  {
   "cell_type": "code",
   "execution_count": 0,
   "metadata": {
    "application/vnd.databricks.v1+cell": {
     "cellMetadata": {},
     "inputWidgets": {},
     "nuid": "d0002508-2dd8-474a-9119-65d18f792a22",
     "showTitle": false,
     "tableResultSettingsMap": {},
     "title": ""
    }
   },
   "outputs": [],
   "source": []
  }
 ],
 "metadata": {
  "application/vnd.databricks.v1+notebook": {
   "computePreferences": {
    "hardware": {
     "accelerator": null,
     "gpuPoolId": null,
     "memory": null
    }
   },
   "dashboards": [],
   "environmentMetadata": {
    "base_environment": "",
    "environment_version": "3"
   },
   "inputWidgetPreferences": null,
   "language": "python",
   "notebookMetadata": {
    "mostRecentlyExecutedCommandWithImplicitDF": {
     "commandId": 7355276113416162,
     "dataframes": [
      "_sqldf"
     ]
    },
    "pythonIndentUnit": 4
   },
   "notebookName": "Delta Lake Concepts",
   "widgets": {}
  },
  "language_info": {
   "name": "python"
  }
 },
 "nbformat": 4,
 "nbformat_minor": 0
}
