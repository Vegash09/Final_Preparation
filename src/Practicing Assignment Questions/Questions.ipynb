{
 "cells": [
  {
   "cell_type": "code",
   "execution_count": 0,
   "metadata": {
    "application/vnd.databricks.v1+cell": {
     "cellMetadata": {
      "byteLimit": 2048000,
      "rowLimit": 10000
     },
     "inputWidgets": {},
     "nuid": "d890d20e-483b-4ad5-817c-911e8fb03efa",
     "showTitle": false,
     "tableResultSettingsMap": {},
     "title": ""
    }
   },
   "outputs": [],
   "source": [
    "from pyspark.sql import SparkSession\n",
    "from pyspark.sql.functions import *\n",
    "from pyspark.sql.types import StructType, StructField, IntegerType, StringType\n",
    "\n",
    "purchase_schema = StructType([\n",
    "    StructField(\"customer\", IntegerType(), True),\n",
    "    StructField(\"product_model\", StringType(), True)\n",
    "])\n",
    "\n",
    "purchase_data = [\n",
    "    (1, \"iphone13\"),\n",
    "    (1, \"dell i5 core\"),\n",
    "    (2, \"iphone13\"),\n",
    "    (2, \"dell i5 core\"),\n",
    "    (3, \"iphone13\"),\n",
    "    (3, \"dell i5 core\"),\n",
    "    (1, \"dell i3 core\"),\n",
    "    (1, \"hp i5 core\"),\n",
    "    (1, \"iphone14\"),\n",
    "    (3, \"iphone14\"),\n",
    "    (4, \"iphone13\")\n",
    "]\n",
    "\n",
    "df1 = spark.createDataFrame(purchase_data, schema=purchase_schema)\n",
    "df1.show()\n",
    "\n",
    "# Schema for product_data\n",
    "product_schema = StructType([\n",
    "    StructField(\"product_model\", StringType(), True)\n",
    "])\n",
    "\n",
    "product_data = [\n",
    "    (\"iphone13\",),\n",
    "    (\"dell i5 core\",),\n",
    "    (\"dell i3 core\",),\n",
    "    (\"hp i5 core\",),\n",
    "    (\"iphone14\",)\n",
    "]\n",
    "\n",
    "df2 = spark.createDataFrame(product_data, schema=product_schema)\n",
    "df2.show()\n",
    "\n",
    "# -------------------------\n",
    "# Questions to solve using the above DataFrames\n",
    "# -------------------------\n",
    "\n",
    "# 2. Find the customers who have bought only iphone13\n",
    "df3 = df1.groupBy(\"customer\") \\\n",
    "         .agg(collect_set(\"product_model\").alias(\"product_model\")) \\\n",
    "         .filter((size(\"product_model\") == 1) & (array_contains(\"product_model\", \"iphone13\")))\n",
    "df3.show()\n",
    "\n",
    "# 3. Find customers who upgraded from product iphone13 to product iphone14\n",
    "df4 = df1.groupBy(\"customer\") \\\n",
    "         .agg(collect_set(\"product_model\").alias(\"product_model\")) \\\n",
    "         .filter(arrays_overlap(\"product_model\", array(lit(\"iphone14\"), lit(\"iphone13\"))))\n",
    "display(df4)\n",
    "\n",
    "\n",
    "# 4. Find customers who have bought all models in the new Product Data\n",
    "df5 = df1.groupBy(\"customer\") \\\n",
    "         .agg(collect_set(\"product_model\").alias(\"product_model\")) \\\n",
    "         .filter(size(\"product_model\") == lit(df2.count()))\n",
    "\n",
    "\n",
    "df5.show()"
   ]
  },
  {
   "cell_type": "code",
   "execution_count": 0,
   "metadata": {
    "application/vnd.databricks.v1+cell": {
     "cellMetadata": {},
     "inputWidgets": {},
     "nuid": "ca2dc6fa-0913-46ef-841f-56fb79837e4a",
     "showTitle": false,
     "tableResultSettingsMap": {},
     "title": ""
    }
   },
   "outputs": [],
   "source": []
  }
 ],
 "metadata": {
  "application/vnd.databricks.v1+notebook": {
   "computePreferences": null,
   "dashboards": [],
   "environmentMetadata": {
    "base_environment": "",
    "environment_version": "3"
   },
   "inputWidgetPreferences": null,
   "language": "python",
   "notebookMetadata": {
    "pythonIndentUnit": 4
   },
   "notebookName": "Questions",
   "widgets": {}
  },
  "language_info": {
   "name": "python"
  }
 },
 "nbformat": 4,
 "nbformat_minor": 0
}
