{
 "cells": [
  {
   "cell_type": "markdown",
   "metadata": {
    "application/vnd.databricks.v1+cell": {
     "cellMetadata": {
      "byteLimit": 2048000,
      "rowLimit": 10000
     },
     "inputWidgets": {},
     "nuid": "db2b95cc-64a9-4d59-ba8f-ca41113ff1e5",
     "showTitle": false,
     "tableResultSettingsMap": {},
     "title": ""
    }
   },
   "source": [
    "## CSV Files"
   ]
  },
  {
   "cell_type": "code",
   "execution_count": 0,
   "metadata": {
    "application/vnd.databricks.v1+cell": {
     "cellMetadata": {
      "byteLimit": 2048000,
      "rowLimit": 10000
     },
     "inputWidgets": {},
     "nuid": "28eade9f-5061-4b0e-8f8e-8cec8d22f4c6",
     "showTitle": false,
     "tableResultSettingsMap": {},
     "title": ""
    }
   },
   "outputs": [],
   "source": [
    "df = spark.read.csv(\"/Volumes/dbtzone_1487699069850689/default/files/titanic-parquet.csv\")\n",
    "df.display()\n",
    "df.printSchema()"
   ]
  },
  {
   "cell_type": "code",
   "execution_count": 0,
   "metadata": {
    "application/vnd.databricks.v1+cell": {
     "cellMetadata": {
      "byteLimit": 2048000,
      "rowLimit": 10000
     },
     "inputWidgets": {},
     "nuid": "7cce89ed-d352-488e-b94b-a24fbb69295b",
     "showTitle": false,
     "tableResultSettingsMap": {},
     "title": ""
    }
   },
   "outputs": [],
   "source": [
    "df = spark.read.option(\"header\", \"true\").csv(\"/Volumes/dbtzone_1487699069850689/default/files/titanic-parquet.csv\")\n",
    "df.display()\n",
    "df.printSchema()"
   ]
  },
  {
   "cell_type": "code",
   "execution_count": 0,
   "metadata": {
    "application/vnd.databricks.v1+cell": {
     "cellMetadata": {
      "byteLimit": 2048000,
      "rowLimit": 10000
     },
     "inputWidgets": {},
     "nuid": "c3dc02ba-4c5c-4624-bb33-5136051283c3",
     "showTitle": false,
     "tableResultSettingsMap": {},
     "title": ""
    }
   },
   "outputs": [],
   "source": [
    "df = spark.read.option(\"header\", \"true\").option(\"InferSchema\", \"true\").csv(\"/Volumes/dbtzone_1487699069850689/default/files/titanic-parquet.csv\")\n",
    "df.display()\n",
    "df.printSchema()"
   ]
  },
  {
   "cell_type": "code",
   "execution_count": 0,
   "metadata": {
    "application/vnd.databricks.v1+cell": {
     "cellMetadata": {
      "byteLimit": 2048000,
      "rowLimit": 10000
     },
     "inputWidgets": {},
     "nuid": "37c6bbe1-99de-4034-b05c-de2fe6015ce9",
     "showTitle": false,
     "tableResultSettingsMap": {},
     "title": ""
    }
   },
   "outputs": [],
   "source": [
    "df = spark.read.option(\"header\", \"true\").option(\"InferSchema\", \"true\").option(\"mode\", \"DROPMALFORMED\").csv(\"/Volumes/dbtzone_1487699069850689/default/files/titanic-parquet.csv\")\n",
    "df.display()\n",
    "df.printSchema()"
   ]
  },
  {
   "cell_type": "code",
   "execution_count": 0,
   "metadata": {
    "application/vnd.databricks.v1+cell": {
     "cellMetadata": {
      "byteLimit": 2048000,
      "rowLimit": 10000
     },
     "inputWidgets": {},
     "nuid": "4cc810bd-a91d-4e78-a781-70f60e12e20c",
     "showTitle": false,
     "tableResultSettingsMap": {
      "0": {
       "dataGridStateBlob": "{\"version\":1,\"tableState\":{\"columnPinning\":{\"left\":[\"#row_number#\"],\"right\":[]},\"columnSizing\":{},\"columnVisibility\":{}},\"settings\":{\"columns\":{}},\"syncTimestamp\":1757069735766}",
       "filterBlob": null,
       "queryPlanFiltersBlob": null,
       "tableResultIndex": 0
      }
     },
     "title": ""
    }
   },
   "outputs": [],
   "source": [
    "_schema = \"PassengerId integer, Survived integer, Pclass integer, Name string, Sex string, Age double, SibSp integer, Parch integer, Ticket string, Fare double, Cabin string, Embarked string, _corrupt_record string\"\n",
    "df = spark.read \\\n",
    "    .option(\"header\", \"true\") \\\n",
    "    .option(\"inferSchema\", \"true\") \\\n",
    "    .schema(_schema) \\\n",
    "    .csv(\"/Volumes/dbtzone_1487699069850689/default/files/titanic-parquet.csv\")\n",
    "\n",
    "df.display()\n",
    "df.printSchema()"
   ]
  },
  {
   "cell_type": "code",
   "execution_count": 0,
   "metadata": {
    "application/vnd.databricks.v1+cell": {
     "cellMetadata": {
      "byteLimit": 2048000,
      "rowLimit": 10000
     },
     "inputWidgets": {},
     "nuid": "0fde6e25-a7a4-46cb-9bf8-b7b09d360b82",
     "showTitle": false,
     "tableResultSettingsMap": {},
     "title": ""
    }
   },
   "outputs": [],
   "source": [
    "_schema = \"PassengerId integer, Survived integer, Pclass integer, Name string, Sex string, Age double, SibSp integer, Parch integer, Ticket string, Fare double, Cabin string, Embarked string, _corrupt_record string\"\n",
    "df = spark.read \\\n",
    "    .option(\"header\", \"true\") \\\n",
    "    .option(\"inferSchema\", \"true\") \\\n",
    "    .schema(_schema) \\\n",
    "    .option(\"mode\", \"DROPMALFORMED\") \\\n",
    "    .csv(\"/Volumes/dbtzone_1487699069850689/default/files/titanic-parquet.csv\")\n",
    "\n",
    "df.display()\n",
    "df.printSchema()"
   ]
  },
  {
   "cell_type": "code",
   "execution_count": 0,
   "metadata": {
    "application/vnd.databricks.v1+cell": {
     "cellMetadata": {
      "byteLimit": 2048000,
      "rowLimit": 10000
     },
     "inputWidgets": {},
     "nuid": "8235e16f-7be4-4424-a428-553fefd0bc00",
     "showTitle": false,
     "tableResultSettingsMap": {},
     "title": ""
    }
   },
   "outputs": [],
   "source": [
    "# _schema = \"PassengerId int, Survived int, Pclass int, Name string, Sex string, Age double, SibSp int, Parch int, Ticket string, Fare double, Cabin string, Embarked string, _corrupt_record string\"\n",
    "# df = spark.read \\\n",
    "#     .option(\"header\", \"true\") \\\n",
    "#     .option(\"inferSchema\", \"true\") \\\n",
    "#     .schema(_schema) \\\n",
    "#     .option(\"mode\", \"FAILFAST\") \\\n",
    "#     .csv(\"/Volumes/dbtzone_1487699069850689/default/files/titanic-parquet.csv\")\n",
    "\n",
    "# df.display()\n",
    "# df.printSchema()"
   ]
  },
  {
   "cell_type": "markdown",
   "metadata": {
    "application/vnd.databricks.v1+cell": {
     "cellMetadata": {
      "byteLimit": 2048000,
      "rowLimit": 10000
     },
     "inputWidgets": {},
     "nuid": "155eb3ba-bb12-4d54-a2fa-c7dbafaf1e74",
     "showTitle": false,
     "tableResultSettingsMap": {},
     "title": ""
    }
   },
   "source": [
    "## JSON Files"
   ]
  },
  {
   "cell_type": "code",
   "execution_count": 0,
   "metadata": {
    "application/vnd.databricks.v1+cell": {
     "cellMetadata": {
      "byteLimit": 2048000,
      "rowLimit": 10000
     },
     "inputWidgets": {},
     "nuid": "1824d59e-8c1e-4f02-b0a3-a88ef73d86c3",
     "showTitle": false,
     "tableResultSettingsMap": {},
     "title": ""
    }
   },
   "outputs": [],
   "source": [
    "df2 = spark.read.option(\"multiline\", \"true\").json(\"/Volumes/dbtzone_1487699069850689/default/files/sample_nested.json\")\n",
    "df2.display()\n",
    "df2.printSchema()"
   ]
  },
  {
   "cell_type": "code",
   "execution_count": 0,
   "metadata": {
    "application/vnd.databricks.v1+cell": {
     "cellMetadata": {
      "byteLimit": 2048000,
      "rowLimit": 10000
     },
     "inputWidgets": {},
     "nuid": "86eb3d9c-0c2a-45f3-9834-5124edc4b78d",
     "showTitle": false,
     "tableResultSettingsMap": {},
     "title": ""
    }
   },
   "outputs": [],
   "source": [
    "df2.show()"
   ]
  },
  {
   "cell_type": "code",
   "execution_count": 0,
   "metadata": {
    "application/vnd.databricks.v1+cell": {
     "cellMetadata": {
      "byteLimit": 2048000,
      "rowLimit": 10000
     },
     "inputWidgets": {},
     "nuid": "5ac4fecb-b72e-4c44-90db-fcff39d73fc9",
     "showTitle": false,
     "tableResultSettingsMap": {},
     "title": ""
    }
   },
   "outputs": [],
   "source": [
    "df3 = df2.select(\"brewing.*\",\"coffee.*\")\n",
    "df3.show()\n"
   ]
  },
  {
   "cell_type": "code",
   "execution_count": 0,
   "metadata": {
    "application/vnd.databricks.v1+cell": {
     "cellMetadata": {
      "byteLimit": 2048000,
      "rowLimit": 10000
     },
     "inputWidgets": {},
     "nuid": "6e1fbd05-7817-4f02-bad5-43230b38ac3a",
     "showTitle": false,
     "tableResultSettingsMap": {},
     "title": ""
    }
   },
   "outputs": [],
   "source": [
    "from pyspark.sql.functions import col\n",
    "\n",
    "df4 = df2.select(\n",
    "    col(\"brewing.country\").alias(\"brewing_country\"),\n",
    "    col(\"brewing.region\").alias(\"brewing_region\"),\n",
    "    col(\"coffee.country\").alias(\"coffee_country\"),\n",
    "    col(\"coffee.region\").alias(\"coffee_region\")\n",
    ")"
   ]
  },
  {
   "cell_type": "code",
   "execution_count": 0,
   "metadata": {
    "application/vnd.databricks.v1+cell": {
     "cellMetadata": {
      "byteLimit": 2048000,
      "rowLimit": 10000
     },
     "inputWidgets": {},
     "nuid": "b428d759-18c4-4d86-b9fd-c948c12e07a0",
     "showTitle": false,
     "tableResultSettingsMap": {},
     "title": ""
    }
   },
   "outputs": [],
   "source": [
    "df4.show()"
   ]
  },
  {
   "cell_type": "code",
   "execution_count": 0,
   "metadata": {
    "application/vnd.databricks.v1+cell": {
     "cellMetadata": {
      "byteLimit": 2048000,
      "rowLimit": 10000
     },
     "inputWidgets": {},
     "nuid": "5ff1e4fe-0987-44d2-88f1-3fb1cdd751e2",
     "showTitle": false,
     "tableResultSettingsMap": {},
     "title": ""
    }
   },
   "outputs": [],
   "source": [
    "df5 = df4.select(\n",
    "    \"brewing_country\",\n",
    "    \"brewing_region\",\n",
    "    \"coffee_country\",\n",
    "    \"coffee_region\"\n",
    ")\n",
    "display(df5)\n",
    "df5.printSchema()"
   ]
  },
  {
   "cell_type": "code",
   "execution_count": 0,
   "metadata": {
    "application/vnd.databricks.v1+cell": {
     "cellMetadata": {
      "byteLimit": 2048000,
      "rowLimit": 10000
     },
     "inputWidgets": {},
     "nuid": "b148c1fe-d910-4db7-95a3-cead500fdd2c",
     "showTitle": false,
     "tableResultSettingsMap": {},
     "title": ""
    }
   },
   "outputs": [],
   "source": [
    "from pyspark.sql.functions import explode\n",
    "df6 = df5.select(\n",
    "    col(\"brewing_country.company\").alias(\"brewing_country_company\"),\n",
    "    col(\"brewing_country.id\").alias(\"brewing_country_id\"),\n",
    "    explode(col(\"brewing_region\")).alias(\"brewing_region\"),\n",
    "    col(\"coffee_country.company\").alias(\"coffee_country_company\"),\n",
    "    col(\"coffee_country.id\").alias(\"coffee_country_id\"),\n",
    "    explode(col(\"coffee_region\")).alias(\"coffee_region\")\n",
    ")\n",
    "\n",
    "df7 = df6.select(\n",
    "    col(\"brewing_country_company\"),\n",
    "    col(\"brewing_country_id\"),\n",
    "    # explode(col(\"brewing_region\")).alias(\"brewing_region\"),\n",
    "    col(\"brewing_region.id\").alias(\"brewing_region_id\"),\n",
    "    col(\"brewing_region.name\").alias(\"brewing_region_name\"),\n",
    "    col(\"coffee_country_company\"),\n",
    "    col(\"coffee_country_id\"),\n",
    "    # explode(col(\"coffee_region\")).alias(\"coffee_region\")\n",
    "    col(\"coffee_region.id\").alias(\"coffee_region_id\"),\n",
    "    col(\"coffee_region.name\").alias(\"coffee_region_name\")\n",
    ")\n",
    "display(df7)\n",
    "df7.printSchema()\n"
   ]
  },
  {
   "cell_type": "code",
   "execution_count": 0,
   "metadata": {
    "application/vnd.databricks.v1+cell": {
     "cellMetadata": {
      "byteLimit": 2048000,
      "rowLimit": 10000
     },
     "inputWidgets": {},
     "nuid": "5b1b9029-1d2d-4d03-a9f3-4a1bcea8aaf1",
     "showTitle": false,
     "tableResultSettingsMap": {},
     "title": ""
    }
   },
   "outputs": [],
   "source": [
    "# df6 = df5.select(\n",
    "#     col(\"brewing_country.company\").alias(\"brewing_country_company\"),\n",
    "#     col(\"brewing_country.id\").alias(\"brewing_country_id\"),\n",
    "#     explode(col(\"brewing_region\")).alias(\"brewing_region\"),\n",
    "#     col(\"coffee_country.company\").alias(\"coffee_country_company\"),\n",
    "#     col(\"coffee_country.id\").alias(\"coffee_country_id\"),\n",
    "#     explode(col(\"coffee_region\")).alias(\"coffee_region\")\n",
    "# )\n",
    "\n",
    "# df6.printSchema()\n"
   ]
  },
  {
   "cell_type": "code",
   "execution_count": 0,
   "metadata": {
    "application/vnd.databricks.v1+cell": {
     "cellMetadata": {
      "byteLimit": 2048000,
      "rowLimit": 10000
     },
     "inputWidgets": {},
     "nuid": "ae2341bf-ea12-48ce-8935-21067712144a",
     "showTitle": false,
     "tableResultSettingsMap": {},
     "title": ""
    }
   },
   "outputs": [],
   "source": []
  }
 ],
 "metadata": {
  "application/vnd.databricks.v1+notebook": {
   "computePreferences": null,
   "dashboards": [],
   "environmentMetadata": {
    "base_environment": "",
    "environment_version": "3"
   },
   "inputWidgetPreferences": null,
   "language": "python",
   "notebookMetadata": {
    "pythonIndentUnit": 4
   },
   "notebookName": "Reading Files",
   "widgets": {}
  },
  "language_info": {
   "name": "python"
  }
 },
 "nbformat": 4,
 "nbformat_minor": 0
}
